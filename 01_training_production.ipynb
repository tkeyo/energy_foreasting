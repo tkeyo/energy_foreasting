{
 "cells": [
  {
   "cell_type": "code",
   "execution_count": null,
   "metadata": {},
   "outputs": [],
   "source": [
    "import pandas as pd"
   ]
  },
  {
   "cell_type": "code",
   "execution_count": null,
   "metadata": {},
   "outputs": [],
   "source": [
    "df = pd.read_parquet(\"Production.parquet\")\n",
    "df[:5]"
   ]
  },
  {
   "cell_type": "code",
   "execution_count": null,
   "metadata": {},
   "outputs": [],
   "source": [
    "df_wind = (\n",
    "    df\n",
    "    # .filter(regex=\"PriceArea|Wind\")\n",
    "    [[\"PriceArea\",\"OnshoreWindGe50kW_MWh\"]]\n",
    "    # .assign(\n",
    "    #     WIND_PRODUCTION=lambda df: df.sum(axis='columns')\n",
    "    # )\n",
    "    .reset_index()\n",
    "    .query(\"PriceArea == 'DK1'\")\n",
    "    .query(\"HourUTC >= '2017-01-01'\")\n",
    ")\n",
    "\n",
    "df_wind[:2]"
   ]
  },
  {
   "cell_type": "code",
   "execution_count": null,
   "metadata": {},
   "outputs": [],
   "source": [
    "# df = (\n",
    "#     df\n",
    "#     .groupby(\n",
    "#         [\n",
    "#             \"PriceArea\",\n",
    "#             pd.Grouper(freq=\"M\"),\n",
    "#         ],\n",
    "#         # as_index=False\n",
    "#     )\n",
    "#     .agg(\n",
    "#         PRODUCTION=(\"TOTAL_PRODUCTION\", \"sum\")\n",
    "#     )\n",
    "#     .reset_index()\n",
    "#     .set_index(\"HourUTC\")\n",
    "# )\n",
    "# df"
   ]
  },
  {
   "cell_type": "code",
   "execution_count": null,
   "metadata": {},
   "outputs": [],
   "source": [
    "# dk_1 = (\n",
    "#     df\n",
    "#     .query(\"PriceArea == 'DK1'\")\n",
    "#     .reset_index()\n",
    "# )\n",
    "\n",
    "# dk_2 = (\n",
    "#     df\n",
    "#     .query(\"PriceArea == 'DK2'\")\n",
    "#     .reset_index()\n",
    "# )"
   ]
  },
  {
   "cell_type": "code",
   "execution_count": null,
   "metadata": {},
   "outputs": [],
   "source": [
    "# dk_2[:5]"
   ]
  },
  {
   "cell_type": "code",
   "execution_count": null,
   "metadata": {},
   "outputs": [],
   "source": [
    "df_wind_model = (\n",
    "    df_wind\n",
    "    .set_index(\"HourUTC\") \n",
    "    .groupby(\n",
    "        pd.Grouper(freq=\"D\")\n",
    "    )\n",
    "    .agg(\n",
    "        MEAN_PRODUCTION=(\"OnshoreWindGe50kW_MWh\", \"sum\")\n",
    "    )\n",
    "    .rolling(30)\n",
    "    .mean()\n",
    "    # .plot(figsize=(30,10))\n",
    "    .reset_index()\n",
    ")"
   ]
  },
  {
   "cell_type": "code",
   "execution_count": null,
   "metadata": {},
   "outputs": [],
   "source": [
    "from darts import TimeSeries\n",
    "\n",
    "series = TimeSeries.from_dataframe(df_wind_model, \"HourUTC\", \"MEAN_PRODUCTION\")"
   ]
  },
  {
   "cell_type": "code",
   "execution_count": null,
   "metadata": {},
   "outputs": [],
   "source": [
    "series.plot()"
   ]
  },
  {
   "cell_type": "code",
   "execution_count": null,
   "metadata": {},
   "outputs": [],
   "source": [
    "NUM = 1\n",
    "\n",
    "\n",
    "train, val = series[:-NUM], series[-NUM:]"
   ]
  },
  {
   "cell_type": "code",
   "execution_count": null,
   "metadata": {},
   "outputs": [],
   "source": [
    "# from statistics import mode\n",
    "# from darts.models import ExponentialSmoothing\n",
    "\n",
    "# model = ExponentialSmoothing()\n",
    "# model.fit(train)\n",
    "\n",
    "# prediction = model.predict(len(val), num_samples=100)"
   ]
  },
  {
   "cell_type": "code",
   "execution_count": null,
   "metadata": {},
   "outputs": [],
   "source": [
    "import matplotlib.pyplot as plt\n",
    "\n",
    "# plt.figure( figsize=(30,10))\n",
    "# series.plot()\n",
    "# prediction.plot(label=\"forecast\", low_quantile=0.2, high_quantile=0.8)\n",
    "# plt.legend()"
   ]
  },
  {
   "cell_type": "markdown",
   "metadata": {},
   "source": [
    "### !! Model saving does not work\n",
    "\n",
    "See notebook `01_training_production_prophet.ipynb` where I import Prophet directly.\n",
    "\n",
    "So instead of `from darts.models import Prophet` I use `from prophet import Prophet`.\n",
    "This also means that instead of the `from darts import TimeSeries` API I use a regular `pd.DataFrame` as input for the model.\n"
   ]
  },
  {
   "cell_type": "code",
   "execution_count": 18,
   "metadata": {},
   "outputs": [],
   "source": [
    "from darts.models import Prophet"
   ]
  },
  {
   "cell_type": "code",
   "execution_count": null,
   "metadata": {},
   "outputs": [],
   "source": [
    "model = Prophet()\n",
    "model.fit(train)\n",
    "\n",
    "\n",
    "FUTURE = 10\n",
    "\n",
    "prediction = model.predict(FUTURE, num_samples=100)\n",
    "\n",
    "plt.figure(figsize=(30,10))\n",
    "series[-60:].plot()\n",
    "prediction[-60:].plot(label=\"forecast\", low_quantile=0.1, high_quantile=0.9)\n",
    "plt.legend();"
   ]
  },
  {
   "cell_type": "code",
   "execution_count": null,
   "metadata": {},
   "outputs": [],
   "source": [
    "# Python\n",
    "from prophet.serialize import model_to_json, model_from_json\n",
    "\n",
    "with open('serialized_model.json', 'w') as fout:\n",
    "    fout.write(model_to_json(model))  # Save model\n",
    "\n",
    "with open('serialized_model.json', 'r') as fin:\n",
    "    m = model_from_json(fin.read())  # Load model"
   ]
  }
 ],
 "metadata": {
  "kernelspec": {
   "display_name": "Python 3.8.13 ('ml_energy')",
   "language": "python",
   "name": "python3"
  },
  "language_info": {
   "codemirror_mode": {
    "name": "ipython",
    "version": 3
   },
   "file_extension": ".py",
   "mimetype": "text/x-python",
   "name": "python",
   "nbconvert_exporter": "python",
   "pygments_lexer": "ipython3",
   "version": "3.9.13"
  },
  "orig_nbformat": 4,
  "vscode": {
   "interpreter": {
    "hash": "78525139db111d1814c5fc15834eb1a6bdb3679a706673d8c480b1653ff4d2e3"
   }
  }
 },
 "nbformat": 4,
 "nbformat_minor": 2
}
